{
 "cells": [
  {
   "cell_type": "markdown",
   "id": "0664a319-f38e-4fc4-ab6d-b8220c6a3198",
   "metadata": {},
   "source": [
    "## Stage IAP"
   ]
  },
  {
   "cell_type": "code",
   "execution_count": 4,
   "id": "32d1c073-e310-4994-a20f-08bc23c1b5e0",
   "metadata": {
    "tags": []
   },
   "outputs": [],
   "source": [
    "import numpy as np\n",
    "\n",
    "def to_plane(x_n, y_n, z_n):\n",
    "    x = 2*x_n/(1 + z_n)\n",
    "    y = 2*y_n/(1 + z_n)\n",
    "    return (x, y)\n",
    "\n",
    "def to_sphere(x, y):\n",
    "    x_n = 4*x/(4 + x**2 + y**2)\n",
    "    y_n = 4*y/(4 + x**2 + y**2)\n",
    "    z_n = (4 - x**2 - y**2)/(4 + x**2 + y**2)\n",
    "    return (x_n, y_n, z_n)\n",
    "\n",
    "def f_to_length(angle_degrees):\n",
    "    angle_radians = np.radians((180-angle_degrees)/2)\n",
    "    (x, y) = to_plane(np.cos(angle_radians), 0, np.sin(angle_radians))\n",
    "    return 2*x\n",
    "\n",
    "def length_to_f(length):\n",
    "    plane_coords = to_sphere(length/2, 0)\n",
    "    alpha_radians = np.arctan2(plane_coords[2], plane_coords[0])\n",
    "    alpha_degrees = np.degrees(alpha_radians)\n",
    "    return 180 - 2*alpha_degrees\n",
    "\n",
    "def screen_size(resX, resY, length):\n",
    "    ratio = resX/resY\n",
    "    width = length/ratio\n",
    "    return (length, width)\n",
    "\n",
    "def plane_to_screen(resX, resY, x, y):\n",
    "    X = (2*x/L)*resX + resX/2\n",
    "    Y = (2*y/L)*resX + resY/2\n",
    "    return (X, Y)\n",
    "\n",
    "def screen_to_plane(resX, resY, X, Y):\n",
    "    x = (X - resX/2)*L/(2*resX)\n",
    "    y = (Y - resY/2)*L/(2*resX)\n",
    "    return (x, y)\n",
    "\n",
    "def angle_to_colour(phi, theta):\n",
    "    phi_tilde = phi // 5\n",
    "    theta_tilde = theta // 5\n",
    "    \n",
    "    if (phi_tilde + theta_tilde) % 2 == 0:\n",
    "        return (0, 0, 0)\n",
    "    return (255, 255, 255)\n",
    "\n",
    "# PPM header\n",
    "width = 256\n",
    "height = 128\n",
    "maxval = 255\n",
    "ppm_header = f\"P3\\n{width} {height}\\n{maxval}\\n\"\n",
    "\n",
    "# PPM image data\n",
    "image = f\"255 255 255\"\n",
    "\n",
    "# Save the PPM image as a binary file\n",
    "with open(\"sphere_celeste.ppm\", \"wb\") as f:\n",
    "    f.write(bytearray(ppm_header, \"ascii\"))\n",
    "    f.write(bytearray(image, \"ascii\"))"
   ]
  }
 ],
 "metadata": {
  "kernelspec": {
   "display_name": "Python 3 (ipykernel)",
   "language": "python",
   "name": "python3"
  },
  "language_info": {
   "codemirror_mode": {
    "name": "ipython",
    "version": 3
   },
   "file_extension": ".py",
   "mimetype": "text/x-python",
   "name": "python",
   "nbconvert_exporter": "python",
   "pygments_lexer": "ipython3",
   "version": "3.9.7"
  }
 },
 "nbformat": 4,
 "nbformat_minor": 5
}
